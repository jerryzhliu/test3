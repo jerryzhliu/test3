{
 "cells": [
  {
   "cell_type": "code",
   "execution_count": 26,
   "metadata": {},
   "outputs": [],
   "source": [
    "import pdfplumber \n",
    "import pandas as pd\n",
    "\n",
    "pdf = pdfplumber.open(\"D:\\T1.pdf\") \n",
    "p0 = pdf.pages[0]\n",
    "\n",
    "im = p0.to_image()\n",
    "table = p0.extract_table()\n",
    "#df=pd.DataFrame(table[1:],columns=table[0])\n",
    "#df\n",
    "#im\n",
    "#type(table)\n",
    "# for ele in table:\n",
    "#     a = list(filter(None,ele))\n",
    "#     print(a)\n",
    "#im\n"
   ]
  },
  {
   "cell_type": "code",
   "execution_count": 34,
   "metadata": {},
   "outputs": [
    {
     "name": "stdout",
     "output_type": "stream",
     "text": [
      "------------------------------------------------------------------------------------------------------------------------\n",
      "2016/12/09\n"
     ]
    }
   ],
   "source": [
    "import time\n",
    "from datetime import datetime, timedelta\n",
    "\n",
    "a = \"2013-10-10 23:40:00\"\n",
    "\n",
    "print(\"-\"*120)\n",
    "timeArray = time.strptime(a, \"%Y-%m-%d %H:%M:%S\")\n",
    "otherStyleTime = time.strftime(\"%Y/%m/%d\", timeArray)\n",
    "#print(otherStyleTime)\n",
    "\n",
    "date = datetime.strptime('20161209', '%Y%m%d')\n",
    "# print(date)\n",
    "\n",
    "# chande_date=str(date)\n",
    "# print(date)\n",
    "# type(chande_date)\n",
    "timeArray = time.strptime(str(date), \"%Y-%m-%d %H:%M:%S\")\n",
    "otherStyleTime = time.strftime(\"%Y/%m/%d\", timeArray)\n",
    "print(otherStyleTime)\n",
    "#print (date)\n"
   ]
  },
  {
   "cell_type": "code",
   "execution_count": 21,
   "metadata": {},
   "outputs": [
    {
     "name": "stdout",
     "output_type": "stream",
     "text": [
      "['2020/09/27', '2020/09/30', '2020/09/24', '2020/09/23']\n"
     ]
    }
   ],
   "source": [
    "#####時間格式轉換\n",
    "import time\n",
    "from datetime import datetime, timedelta\n",
    "\n",
    "qdate=[20200927,20200930,20200924,20200923]\n",
    "newqdate=[]\n",
    "#print(qdate[1])\n",
    "# type(str(qdate[1]))\n",
    "for i in range(len(qdate)):\n",
    "    date = datetime.strptime(str(qdate[i]), '%Y%m%d')\n",
    "    timeArray = time.strptime(str(date), \"%Y-%m-%d %H:%M:%S\")\n",
    "    otherStyleTime = time.strftime(\"%Y/%m/%d\", timeArray)\n",
    "    #print(otherStyleTime)\n",
    "    newqdate.append(otherStyleTime)\n",
    "print(newqdate)\n"
   ]
  },
  {
   "cell_type": "code",
   "execution_count": 25,
   "metadata": {},
   "outputs": [
    {
     "name": "stdout",
     "output_type": "stream",
     "text": [
      "['我是零號', '我是一號', '我是二號', '我是三號']\n"
     ]
    }
   ],
   "source": [
    "####刪除廠商統編\n",
    "from string import digits\n",
    "\n",
    "vendor_name=[\"00000000我是零號\",\"11111111我是一號\",\"22222222我是二號\",\"33333333我是三號\"]\n",
    "newvendorname=[]\n",
    "v1=\"00000000我是零號\"\n",
    "for i in range(len(vendor_name)):\n",
    "    remove_digits = str.maketrans('', '', digits)\n",
    "    res = vendor_name[i].translate(remove_digits)\n",
    "    newvendorname.append(res)\n",
    "\n",
    "print(newvendorname)\n",
    "##answer newvendorname=[我是零號,我是一號,我是二號,我是三號]"
   ]
  }
 ],
 "metadata": {
  "kernelspec": {
   "display_name": "Python 3",
   "language": "python",
   "name": "python3"
  },
  "language_info": {
   "codemirror_mode": {
    "name": "ipython",
    "version": 3
   },
   "file_extension": ".py",
   "mimetype": "text/x-python",
   "name": "python",
   "nbconvert_exporter": "python",
   "pygments_lexer": "ipython3",
   "version": "3.7.3"
  }
 },
 "nbformat": 4,
 "nbformat_minor": 2
}
