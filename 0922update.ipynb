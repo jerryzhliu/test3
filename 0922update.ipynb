{
 "cells": [
  {
   "cell_type": "code",
   "execution_count": 15,
   "metadata": {},
   "outputs": [],
   "source": [
    "import pdfplumber \n",
    "import pandas as pd\n",
    "\n",
    "pdf = pdfplumber.open(\"D:\\T1.pdf\") \n",
    "p0 = pdf.pages[0]\n",
    "\n",
    "im = p0.to_image()\n",
    "table = p0.extract_table()\n",
    "#df=pd.DataFrame(table[1:],columns=table[0])\n",
    "#df\n",
    "#im\n",
    "#type(table)\n",
    "for ele in table:\n",
    "    a = list(filter(None,ele))\n",
    "    #print(a)\n",
    "#im\n"
   ]
  }
 ],
 "metadata": {
  "kernelspec": {
   "display_name": "Python 3",
   "language": "python",
   "name": "python3"
  },
  "language_info": {
   "codemirror_mode": {
    "name": "ipython",
    "version": 3
   },
   "file_extension": ".py",
   "mimetype": "text/x-python",
   "name": "python",
   "nbconvert_exporter": "python",
   "pygments_lexer": "ipython3",
   "version": "3.7.3"
  }
 },
 "nbformat": 4,
 "nbformat_minor": 2
}
